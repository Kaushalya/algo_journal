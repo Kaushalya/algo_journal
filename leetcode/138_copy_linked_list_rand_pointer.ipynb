{
 "cells": [
  {
   "cell_type": "markdown",
   "metadata": {},
   "source": [
    "# 138. Copy List with Random Pointer\n",
    "\n",
    "Level: Medium\n",
    "\n",
    "A linked list of length n is given such that each node contains an additional random pointer, which could point to any node in the list, or null.\n",
    "\n",
    "Construct a **deep copy** of the list. The deep copy should consist of exactly n brand new nodes, where each new node has its value set to the value of its corresponding original node. Both the next and random pointer of the new nodes should point to new nodes in the copied list such that the pointers in the original list and copied list represent the same list state. None of the pointers in the new list should point to nodes in the original list.\n",
    "\n",
    "For example, if there are two nodes X and Y in the original list, where X.random --> Y, then for the corresponding two nodes x and y in the copied list, x.random --> y.\n",
    "\n",
    "Return the head of the copied linked list.\n",
    "\n",
    "The linked list is represented in the input/output as a list of n nodes. Each node is represented as a pair of [val, random_index] where:\n",
    "\n",
    "    val: an integer representing Node.val\n",
    "    random_index: the index of the node (range from 0 to n-1) that the random pointer points to, or null if it does not point to any node.\n",
    "\n",
    "Your code will only be given the head of the original linked list."
   ]
  },
  {
   "cell_type": "code",
   "execution_count": 29,
   "metadata": {},
   "outputs": [],
   "source": [
    "from typing import List\n",
    "\n",
    "# Definition for a Node.\n",
    "class Node:\n",
    "    def __init__(self, x: int, next: 'Node' = None, random: 'Node' = None):\n",
    "        self.val = int(x)\n",
    "        self.next = next\n",
    "        self.random = random\n",
    "\n",
    "    def __str__(self):\n",
    "        next_val = self.next.val if self.next else None\n",
    "        rand_val = self.random.val if self.random else None\n",
    "        return f\"{self.val}, next={next_val}, random={rand_val}\""
   ]
  },
  {
   "cell_type": "markdown",
   "metadata": {},
   "source": [
    "Utils functions for \n",
    "1. Create a LinkedLIst from a list of (value, random_index) pairs \n",
    "2. Convert a LinkedLIst (a `Node` object) back to a list of (value, random_index) pairs"
   ]
  },
  {
   "cell_type": "code",
   "execution_count": 41,
   "metadata": {},
   "outputs": [],
   "source": [
    "def create_linked_list(l: List[List[int]])->Node:\n",
    "    \"\"\"Create a linked list from a list of (value, random_index) pairs.\n",
    "\n",
    "    Args:\n",
    "        l (List[int]): A list containing (value, random_index) pairs for each node.\n",
    "\n",
    "    Returns:\n",
    "        Node: The head of a LinkedList\n",
    "    \"\"\"\n",
    "    head = Node(l[0][0])\n",
    "    dummy_head = Node(0, head)\n",
    "    nodes = [None]*len(l)\n",
    "    nodes[0] = head\n",
    "\n",
    "    for i in range(1, len(l)):\n",
    "        tmp = Node(l[i][0])\n",
    "        nodes[i] = tmp\n",
    "        head.next = tmp\n",
    "        head = tmp\n",
    "\n",
    "    head = dummy_head.next\n",
    "    for i in range(len(l)):\n",
    "        if l[i][1] is not None:\n",
    "            print(i, l[i])\n",
    "            head.random = nodes[l[i][1]]\n",
    "        head = head.next\n",
    "    return dummy_head.next\n",
    "\n",
    "\n",
    "def print_linked_list(head: Node)->List:\n",
    "    \"\"\"Convert a LinkedLIst (a `Node` object) back to a list \n",
    "    of (value, random_index) pairs\n",
    "\n",
    "    Args:\n",
    "        head (Node): Head of the LInkedList \n",
    "\n",
    "    Returns:\n",
    "        List: _description_\n",
    "    \"\"\"\n",
    "    node_dic = {}\n",
    "    node_list = []\n",
    "\n",
    "    dummyhead = Node(0, head)\n",
    "    i = 0\n",
    "    while head:\n",
    "        print(i, head.val)\n",
    "        node_dic[hash(head)] = i\n",
    "        head = head.next\n",
    "        i += 1\n",
    "    \n",
    "    head = dummyhead.next\n",
    "\n",
    "    while head:\n",
    "        rand_ind = node_dic[hash(head.random)] if head.random else None\n",
    "        node_list.append([head.val, rand_ind])\n",
    "        head = head.next\n",
    "\n",
    "    return node_list\n",
    "    \n"
   ]
  },
  {
   "cell_type": "code",
   "execution_count": 42,
   "metadata": {},
   "outputs": [
    {
     "name": "stdout",
     "output_type": "stream",
     "text": [
      "1 [13, 0]\n",
      "2 [11, 4]\n",
      "3 [10, 2]\n",
      "4 [1, 0]\n"
     ]
    }
   ],
   "source": [
    "null = None\n",
    "head = [[7,null],[13,0],[11,4],[10,2],[1,0]]\n",
    "head_node = create_linked_list(head)"
   ]
  },
  {
   "cell_type": "code",
   "execution_count": 43,
   "metadata": {},
   "outputs": [
    {
     "name": "stdout",
     "output_type": "stream",
     "text": [
      "0 7\n",
      "1 13\n",
      "2 11\n",
      "3 10\n",
      "4 1\n"
     ]
    },
    {
     "data": {
      "text/plain": [
       "[[7, None], [13, 0], [11, 4], [10, 2], [1, 0]]"
      ]
     },
     "execution_count": 43,
     "metadata": {},
     "output_type": "execute_result"
    }
   ],
   "source": [
    "print_linked_list(head_node)"
   ]
  },
  {
   "cell_type": "code",
   "execution_count": 44,
   "metadata": {},
   "outputs": [],
   "source": [
    "class Solution:\n",
    "    def copyRandomList(self, head: Optional[Node]) -> Optional[Node]:\n",
    "        if head is None:\n",
    "            return head\n",
    "        \n",
    "        dummyhead = Node(-1)\n",
    "        node_dic = {}\n",
    "        prev_copy = None\n",
    "        \n",
    "        while head:\n",
    "            head_copy = None\n",
    "            head_hash = hash(head)\n",
    "            \n",
    "            if head_hash in node_dic:\n",
    "                head_copy = node_dic[head_hash]\n",
    "            else:\n",
    "                head_copy = Node(head.val)\n",
    "                node_dic[head_hash] = head_copy\n",
    "                \n",
    "            if head.random:\n",
    "                rand_hash = hash(head.random)\n",
    "                rand_copy = None\n",
    "                if rand_hash in node_dic:\n",
    "                    rand_copy = node_dic[rand_hash]\n",
    "                else:\n",
    "                    rand_copy = Node(head.random.val)\n",
    "                    node_dic[rand_hash] = rand_copy\n",
    "                head_copy.random = rand_copy\n",
    "                \n",
    "            head = head.next\n",
    "            if prev_copy:\n",
    "                prev_copy.next = head_copy\n",
    "            else:\n",
    "                dummyhead.next = head_copy\n",
    "            prev_copy = head_copy\n",
    "        \n",
    "        return dummyhead.next"
   ]
  }
 ],
 "metadata": {
  "interpreter": {
   "hash": "916dbcbb3f70747c44a77c7bcd40155683ae19c65e1c03b4aa3499c5328201f1"
  },
  "kernelspec": {
   "display_name": "Python 3.8.5 64-bit",
   "language": "python",
   "name": "python3"
  },
  "language_info": {
   "codemirror_mode": {
    "name": "ipython",
    "version": 3
   },
   "file_extension": ".py",
   "mimetype": "text/x-python",
   "name": "python",
   "nbconvert_exporter": "python",
   "pygments_lexer": "ipython3",
   "version": "3.8.10"
  },
  "orig_nbformat": 4
 },
 "nbformat": 4,
 "nbformat_minor": 2
}
