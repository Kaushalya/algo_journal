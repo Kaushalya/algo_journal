{
 "cells": [
  {
   "cell_type": "markdown",
   "metadata": {},
   "source": [
    "## 116. Populating Next Right Pointers in Each Node\n",
    "Problem: [Link](https://leetcode.com/problems/populating-next-right-pointers-in-each-node/)\n",
    "\n",
    "You are given a perfect binary tree where all leaves are on the same level, and every parent has two children. The binary tree has the following definition:"
   ]
  },
  {
   "cell_type": "code",
   "execution_count": 1,
   "metadata": {},
   "outputs": [],
   "source": [
    "from typing import Optional\n",
    "\n",
    "# Definition for a Node.\n",
    "class Node:\n",
    "    def __init__(self, val: int = 0, left: Node = None, right: Node = None, next: Node = None):\n",
    "        self.val = val\n",
    "        self.left = left\n",
    "        self.right = right\n",
    "        self.next = next"
   ]
  },
  {
   "cell_type": "markdown",
   "metadata": {},
   "source": [
    "Using BFS with a queue to store nodes to visit next."
   ]
  },
  {
   "cell_type": "code",
   "execution_count": null,
   "metadata": {},
   "outputs": [],
   "source": [
    "        \n",
    "def connect(root: Optional[Node]) -> Optional[Node]:\n",
    "    if root is None:\n",
    "        return root\n",
    "    \n",
    "    to_visit = []\n",
    "    nodes = [root]\n",
    "    prev = None\n",
    "    \n",
    "    while nodes:\n",
    "        current = nodes.pop(0)\n",
    "        if prev:\n",
    "            prev.next = current\n",
    "        if current.left:\n",
    "            to_visit.append(current.left)\n",
    "        if current.right:\n",
    "            to_visit.append(current.right)\n",
    "        prev = current\n",
    "        \n",
    "        if len(nodes)==0:\n",
    "            prev = None\n",
    "            nodes = to_visit\n",
    "            to_visit = []\n",
    "            \n",
    "    return root"
   ]
  },
  {
   "cell_type": "markdown",
   "metadata": {},
   "source": [
    "Without using a queue. `Next` of a node can be used for traversal as in a linked list. "
   ]
  },
  {
   "cell_type": "code",
   "execution_count": null,
   "metadata": {},
   "outputs": [],
   "source": [
    "def connect(root: 'Optional[Node]') -> 'Optional[Node]':\n",
    "    if root is None:\n",
    "        return root\n",
    "    \n",
    "    cur = root\n",
    "    nxt = cur.left\n",
    "    \n",
    "    while cur.left:\n",
    "        cur.left.next = cur.right\n",
    "        \n",
    "        if cur.next:\n",
    "            cur.right.next = cur.next.left\n",
    "            cur = cur.next\n",
    "        else:\n",
    "            # This is the end of one level of the tree. We have to move to the left-most node at the next level.\n",
    "            cur = nxt\n",
    "            nxt = nxt.left\n",
    "            \n",
    "    return root"
   ]
  }
 ],
 "metadata": {
  "interpreter": {
   "hash": "a6d8bd464d77343d5b02fd322c52c1d960418a7f9e37dc021c2c2724ab9d0901"
  },
  "kernelspec": {
   "display_name": "Python 3.8.10 64-bit ('flax_p38': conda)",
   "language": "python",
   "name": "python3"
  },
  "language_info": {
   "codemirror_mode": {
    "name": "ipython",
    "version": 3
   },
   "file_extension": ".py",
   "mimetype": "text/x-python",
   "name": "python",
   "nbconvert_exporter": "python",
   "pygments_lexer": "ipython3",
   "version": "3.8.10"
  },
  "orig_nbformat": 4
 },
 "nbformat": 4,
 "nbformat_minor": 2
}
