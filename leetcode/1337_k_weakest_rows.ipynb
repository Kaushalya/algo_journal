{
 "cells": [
  {
   "cell_type": "markdown",
   "metadata": {},
   "source": [
    "# 1337. The K Weakest Rows in a Matrix\n",
    "\n",
    "Difficulty: **Easy**\n",
    "\n",
    "You are given an m x n binary matrix mat of 1's (representing soldiers) and 0's (representing civilians). The soldiers are positioned in front of the civilians. That is, all the 1's will appear to the left of all the 0's in each row.\n",
    "\n",
    "A row i is weaker than a row j if one of the following is true:\n",
    "* The number of soldiers in row i is less than the number of soldiers in row j.\n",
    "* Both rows have the same number of soldiers and i < j.\n",
    "\n",
    "Return the indices of the k weakest rows in the matrix ordered from weakest to strongest."
   ]
  },
  {
   "cell_type": "code",
   "execution_count": 1,
   "metadata": {},
   "outputs": [],
   "source": [
    "from typing import List"
   ]
  },
  {
   "cell_type": "code",
   "execution_count": 2,
   "metadata": {},
   "outputs": [],
   "source": [
    "def kWeakestRows(mat: List[List[int]], k: int) -> List[int]:\n",
    "    scores = sorted(range(len(mat)), key=lambda row: sum(mat[row]))\n",
    "    return scores[:k]"
   ]
  },
  {
   "cell_type": "markdown",
   "metadata": {},
   "source": [
    "## Using binary search and a heap\n",
    "\n",
    "* We make the counting of 1's efficient by using a binary search. We search for the index of the first element with a zero. Because ones are at the beginning of the row finding the leftmost zero gives the number of ones in a row. Binary search reduces the Complexity from `O(n)` to `O(logn)`.\n",
    "* The use of a heap reduces the space complexity to `O(k)` from `O(m)` as we need to keep track of only the `k` smallest rows. \n",
    "\n"
   ]
  },
  {
   "cell_type": "code",
   "execution_count": 3,
   "metadata": {},
   "outputs": [],
   "source": [
    "from heapq import heapify, heappush, heappushpop, heappop\n",
    "\n",
    "def bsearch(row):\n",
    "    left, right = 0, len(row)-1\n",
    "    \n",
    "    while left<=right:\n",
    "        mid = left+(right-left)//2\n",
    "        if row[mid] == 1:\n",
    "            left = mid+1\n",
    "        else:\n",
    "            right = mid-1\n",
    "\n",
    "    return left\n",
    "    \n",
    "def kWeakestRows_bsearch(mat: List[List[int]], k: int) -> List[int]:\n",
    "    scores = []\n",
    "    heapify(scores)\n",
    "    \n",
    "    for i, row in enumerate(mat):\n",
    "        ones = bsearch(row)\n",
    "        item = (-ones, -i)\n",
    "        if len(scores) < k:\n",
    "            heappush(scores, item)\n",
    "        else:\n",
    "            heappushpop(scores, item)\n",
    "    \n",
    "    res = []\n",
    "    while scores:\n",
    "        res.append(-heappop(scores)[1])\n",
    "    \n",
    "    return res[::-1]\n",
    "        "
   ]
  },
  {
   "cell_type": "markdown",
   "metadata": {},
   "source": [
    "## Examples"
   ]
  },
  {
   "cell_type": "code",
   "execution_count": 4,
   "metadata": {},
   "outputs": [],
   "source": [
    "mat1 = [[1,1,0,0,0],\n",
    " [1,1,1,1,0],\n",
    " [1,0,0,0,0],\n",
    " [1,1,0,0,0],\n",
    " [1,1,1,1,1]] \n",
    "k1 = 3\n"
   ]
  },
  {
   "cell_type": "code",
   "execution_count": 5,
   "metadata": {},
   "outputs": [
    {
     "data": {
      "text/plain": [
       "[2, 0, 3]"
      ]
     },
     "execution_count": 5,
     "metadata": {},
     "output_type": "execute_result"
    }
   ],
   "source": [
    "kWeakestRows(mat1, k1)"
   ]
  },
  {
   "cell_type": "code",
   "execution_count": 6,
   "metadata": {},
   "outputs": [
    {
     "data": {
      "text/plain": [
       "[2, 0, 3]"
      ]
     },
     "execution_count": 6,
     "metadata": {},
     "output_type": "execute_result"
    }
   ],
   "source": [
    "kWeakestRows_bsearch(mat1, k1)"
   ]
  },
  {
   "cell_type": "code",
   "execution_count": 7,
   "metadata": {},
   "outputs": [],
   "source": [
    "mat2 = [[1,0,0,0],\n",
    " [1,1,1,1],\n",
    " [1,0,0,0],\n",
    " [1,0,0,0]]\n",
    "k2 = 2"
   ]
  }
 ],
 "metadata": {
  "interpreter": {
   "hash": "ef70a4f7af2b672e02af487d901e2416260614119ca433790556eda468a57aa2"
  },
  "kernelspec": {
   "display_name": "Python 3.7.10 ('detection_p37')",
   "language": "python",
   "name": "python3"
  },
  "language_info": {
   "codemirror_mode": {
    "name": "ipython",
    "version": 3
   },
   "file_extension": ".py",
   "mimetype": "text/x-python",
   "name": "python",
   "nbconvert_exporter": "python",
   "pygments_lexer": "ipython3",
   "version": "3.8.10"
  },
  "orig_nbformat": 4
 },
 "nbformat": 4,
 "nbformat_minor": 2
}
