{
 "cells": [
  {
   "cell_type": "markdown",
   "metadata": {},
   "source": [
    "# 763. Partition Labels\n",
    "Level: **Medium**\n",
    "You are given a string s. We want to partition the string into as many parts as possible so that each letter appears in at most one part.\n",
    "\n",
    "Note that the partition is done so that after concatenating all the parts in order, the resultant string should be s.\n",
    "\n",
    "Return a list of integers representing the size of these parts.\n",
    "\n",
    "Example 1:\n",
    "```\n",
    "Input: s = \"ababcbacadefegdehijhklij\"\n",
    "Output: [9,7,8]\n",
    "Explanation:\n",
    "The partition is \"ababcbaca\", \"defegde\", \"hijhklij\".\n",
    "This is a partition so that each letter appears in at most one part.\n",
    "A partition like \"ababcbacadefegde\", \"hijhklij\" is incorrect, because it splits s into less parts.\n",
    "```\n",
    "Example 2:\n",
    "```\n",
    "Input: s = \"eccbbbbdec\"\n",
    "Output: [10]\n",
    "```"
   ]
  },
  {
   "cell_type": "code",
   "execution_count": 1,
   "metadata": {},
   "outputs": [],
   "source": [
    "from typing import List"
   ]
  },
  {
   "cell_type": "code",
   "execution_count": 2,
   "metadata": {},
   "outputs": [],
   "source": [
    "class Solution:\n",
    "    def partitionLabels(self, s: str) -> List[int]:\n",
    "        last = {c:i for i, c in enumerate(s)}\n",
    "        res = [[0, last[s[0]]]]\n",
    "        \n",
    "        for i, c in enumerate(s):\n",
    "            if i <= res[-1][1]:\n",
    "                res[-1][1] = max(res[-1][1], last[c])\n",
    "            else:\n",
    "                res.append([i, last[c]])\n",
    "        # print(res)        \n",
    "        return [it[1]-it[0]+1 for it in res]\n",
    "            "
   ]
  },
  {
   "cell_type": "code",
   "execution_count": 5,
   "metadata": {},
   "outputs": [
    {
     "name": "stdout",
     "output_type": "stream",
     "text": [
      "[9, 7, 8]\n"
     ]
    }
   ],
   "source": [
    "# Example 1\n",
    "res1 = Solution().partitionLabels(\"ababcbacadefegdehijhklij\")\n",
    "print(res1)\n",
    "assert res1==[9, 7, 8]"
   ]
  },
  {
   "cell_type": "code",
   "execution_count": 6,
   "metadata": {},
   "outputs": [
    {
     "name": "stdout",
     "output_type": "stream",
     "text": [
      "[10]\n"
     ]
    }
   ],
   "source": [
    "# Example 2\n",
    "res2 = Solution().partitionLabels(\"eccbbbbdec\")\n",
    "print(res2)\n",
    "assert res2==[10]"
   ]
  }
 ],
 "metadata": {
  "interpreter": {
   "hash": "a6d8bd464d77343d5b02fd322c52c1d960418a7f9e37dc021c2c2724ab9d0901"
  },
  "kernelspec": {
   "display_name": "Python 3.8.10 ('flax_p38')",
   "language": "python",
   "name": "python3"
  },
  "language_info": {
   "codemirror_mode": {
    "name": "ipython",
    "version": 3
   },
   "file_extension": ".py",
   "mimetype": "text/x-python",
   "name": "python",
   "nbconvert_exporter": "python",
   "pygments_lexer": "ipython3",
   "version": "3.8.10"
  },
  "orig_nbformat": 4
 },
 "nbformat": 4,
 "nbformat_minor": 2
}
