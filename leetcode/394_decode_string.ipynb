{
 "cells": [
  {
   "cell_type": "markdown",
   "metadata": {},
   "source": [
    "## 394. Decode string\n",
    "\n",
    "Link to Problem: [LeetCode](https://leetcode.com/problems/decode-string/)\n",
    "\n",
    "Given an encoded string, return its decoded string.\n",
    "The encoding rule is: k[encoded_string], where the encoded_string inside the square brackets is being repeated exactly k times. Note that k is guaranteed to be a positive integer.\n",
    "You may assume that the input string is always valid; No extra white spaces, square brackets are well-formed, etc.\n",
    "Furthermore, you may assume that the original data does not contain any digits and that digits are only for those repeat numbers, k. For example, there won't be input like 3a or 2[4].\n",
    "\n",
    "**Example 1**:\n",
    "Input: `s = \"3[a]2[bc]\"`\n",
    "Output: \"aaabcbc\"\n",
    "\n",
    "**Example 2**:\n",
    "Input: `s = \"3[a2[c]]\"`\n",
    "Output: \"accaccacc\"\n",
    "\n",
    "**Example 3**:\n",
    "Input: `s = \"2[abc]3[cd]ef\"`\n",
    "Output: \"abcabccdcdcdef\"\n",
    "\n",
    "**Example 4**:\n",
    "Input: s = `\"abc3[cd]xyz`\n",
    "Output: \"abccdcdcdxyz\""
   ]
  },
  {
   "cell_type": "markdown",
   "metadata": {},
   "source": [
    "Recursive solution"
   ]
  },
  {
   "cell_type": "code",
   "execution_count": 1,
   "metadata": {},
   "outputs": [],
   "source": [
    "class SolutionRecursion:\n",
    "    def decodeString(self, s: str) -> str:\n",
    "        left, right = 0, 0\n",
    "        res = ''\n",
    "        start, end = 0, 0\n",
    "        num = 0\n",
    "        \n",
    "        for i in range(len(s)):\n",
    "            if s[i].isdigit() and left==0:\n",
    "                num = 10*num + int(s[i])\n",
    "            elif s[i]=='[':\n",
    "                if left == 0:\n",
    "                    start = i\n",
    "                left += 1\n",
    "            elif s[i] == ']':\n",
    "                right += 1\n",
    "                end = i\n",
    "            else:\n",
    "                if left==0:\n",
    "                    res += s[i]\n",
    "                \n",
    "            if left>0 and left==right:\n",
    "                # print(num)\n",
    "                out = num*self.decodeString(s[start+1:i])\n",
    "                # print(out)\n",
    "                res += out\n",
    "                left = 0\n",
    "                right = 0\n",
    "                num = 0\n",
    "        if start==0:\n",
    "            return s\n",
    "        \n",
    "        return res"
   ]
  },
  {
   "cell_type": "code",
   "execution_count": 2,
   "metadata": {},
   "outputs": [
    {
     "data": {
      "text/plain": [
       "'abcabccdcdcdef'"
      ]
     },
     "execution_count": 2,
     "metadata": {},
     "output_type": "execute_result"
    }
   ],
   "source": [
    "#Let's check the output for an example\n",
    "SolutionRecursion().decodeString(\"2[abc]3[cd]ef\")"
   ]
  },
  {
   "cell_type": "markdown",
   "metadata": {},
   "source": [
    "Using a stack"
   ]
  },
  {
   "cell_type": "code",
   "execution_count": null,
   "metadata": {},
   "outputs": [],
   "source": [
    "class SolutionStack(object):\n",
    "    def decodeString(self, s):\n",
    "        stack = []\n",
    "        curNum = 0\n",
    "        curString = ''\n",
    "        for c in s:\n",
    "            if c == '[':\n",
    "                stack.append(curString)\n",
    "                stack.append(curNum)\n",
    "                curString = ''\n",
    "                curNum = 0\n",
    "            elif c == ']':\n",
    "                num = stack.pop()\n",
    "                prevString = stack.pop()\n",
    "                curString = prevString + num*curString\n",
    "            elif c.isdigit():\n",
    "                curNum = curNum*10 + int(c)\n",
    "            else:\n",
    "                curString += c\n",
    "        return curString"
   ]
  }
 ],
 "metadata": {
  "interpreter": {
   "hash": "31f2aee4e71d21fbe5cf8b01ff0e069b9275f58929596ceb00d14d90e3e16cd6"
  },
  "kernelspec": {
   "display_name": "Python 3.8.5 64-bit",
   "language": "python",
   "name": "python3"
  },
  "language_info": {
   "codemirror_mode": {
    "name": "ipython",
    "version": 3
   },
   "file_extension": ".py",
   "mimetype": "text/x-python",
   "name": "python",
   "nbconvert_exporter": "python",
   "pygments_lexer": "ipython3",
   "version": "3.8.10"
  },
  "orig_nbformat": 4
 },
 "nbformat": 4,
 "nbformat_minor": 2
}
