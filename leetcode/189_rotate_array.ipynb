{
 "cells": [
  {
   "attachments": {},
   "cell_type": "markdown",
   "metadata": {},
   "source": [
    "# 189. Rotate Array\n",
    "\n",
    "Difficulty: **Medium**\n",
    "\n",
    "Given an array, rotate the array to the right by `k` steps, where `k` is non-negative.\n"
   ]
  },
  {
   "attachments": {},
   "cell_type": "markdown",
   "metadata": {},
   "source": [
    "## Approach 1: Make a copy of the array\n",
    "\n",
    "Time complexity: O(n)\n",
    "\n",
    "Space complexity: O(n)"
   ]
  },
  {
   "cell_type": "code",
   "execution_count": 19,
   "metadata": {},
   "outputs": [],
   "source": [
    "def rotate_copy(nums: list[int], k: int) -> None:\n",
    "    \"\"\"\n",
    "    Do not return anything, modify nums in-place instead.\n",
    "    \"\"\"\n",
    "    nums_copy = [i for i in nums]\n",
    "    n = len(nums)\n",
    "    for i in range(n):\n",
    "        nums[(i+k)%n] = nums_copy[i] "
   ]
  },
  {
   "attachments": {},
   "cell_type": "markdown",
   "metadata": {},
   "source": [
    "## Approach 2: Reverse array\n",
    "Reverse the first n - k elements, then the last k elements, and then all the n elements.\n",
    "\n",
    "Edge cases:\n",
    "\n",
    "* k can be greater than n, `k %= n`\n",
    "\n",
    "Time complexity: O(n)\n",
    "\n",
    "Space complexity: O(1)"
   ]
  },
  {
   "cell_type": "code",
   "execution_count": 26,
   "metadata": {},
   "outputs": [],
   "source": [
    "def rotate_inplace(nums: list[int], k: int) -> None:\n",
    "    \"\"\"\n",
    "    Do not return anything, modify nums in-place instead.\n",
    "    \"\"\"\n",
    "    def reverse(start, end):\n",
    "        while start < end:\n",
    "            nums[start], nums[end] = nums[end], nums[start]\n",
    "            start += 1\n",
    "            end -= 1\n",
    "\n",
    "    n = len(nums)\n",
    "    k %= n\n",
    "    reverse(0, n-k-1)\n",
    "    reverse(n-k, n-1)\n",
    "    reverse(0, n-1)"
   ]
  },
  {
   "attachments": {},
   "cell_type": "markdown",
   "metadata": {},
   "source": [
    "## Test cases"
   ]
  },
  {
   "cell_type": "code",
   "execution_count": 39,
   "metadata": {},
   "outputs": [],
   "source": [
    "def create_test_cases():\n",
    "    inp1, out1 = dict(nums = [1,2,3,4,5,6,7], k = 3), [5,6,7,1,2,3,4]\n",
    "    inp2, out2 = dict(nums = [-1,-100,3,99], k = 2), [3,99,-1,-100]\n",
    "    inp3, out3 = dict(nums=[1,4,-1,-100], k=13), [-100,1,4,-1]\n",
    "\n",
    "    inputs = [inp1, inp2, inp3]\n",
    "    outputs = [out1, out2, out3]\n",
    "    return inputs, outputs\n",
    "\n",
    "def arrays_equal(arr1, arr2):\n",
    "    if len(arr1)!=len(arr2):\n",
    "        return False\n",
    "    return all([x==y for x, y in zip(arr1, arr2)])\n",
    "\n",
    "def verify_func(func, inputs, outputs):\n",
    "    for inp, out in zip(inputs, outputs):\n",
    "        func(**inp) # Input is updated in-place\n",
    "        assert arrays_equal(inp['nums'], out)"
   ]
  },
  {
   "cell_type": "code",
   "execution_count": 40,
   "metadata": {},
   "outputs": [],
   "source": [
    "inputs, outputs = create_test_cases()\n",
    "verify_func(rotate_copy, inputs, outputs)"
   ]
  },
  {
   "cell_type": "code",
   "execution_count": 41,
   "metadata": {},
   "outputs": [],
   "source": [
    "inputs, outputs = create_test_cases()\n",
    "verify_func(rotate_inplace, inputs, outputs)"
   ]
  }
 ],
 "metadata": {
  "kernelspec": {
   "display_name": "torch_py39",
   "language": "python",
   "name": "python3"
  },
  "language_info": {
   "codemirror_mode": {
    "name": "ipython",
    "version": 3
   },
   "file_extension": ".py",
   "mimetype": "text/x-python",
   "name": "python",
   "nbconvert_exporter": "python",
   "pygments_lexer": "ipython3",
   "version": "3.9.15"
  },
  "orig_nbformat": 4,
  "vscode": {
   "interpreter": {
    "hash": "3008224ba0417c5996b3c09f32a737f6e6c913531bfc6cc7ad4b7580bc9519b3"
   }
  }
 },
 "nbformat": 4,
 "nbformat_minor": 2
}
