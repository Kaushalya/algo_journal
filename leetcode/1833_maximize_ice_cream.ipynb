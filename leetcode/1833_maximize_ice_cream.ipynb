{
 "cells": [
  {
   "attachments": {},
   "cell_type": "markdown",
   "metadata": {},
   "source": [
    "## 1833. Maximum Ice Cream Bars\n",
    "\n",
    "**Difficulty**: Medium\n",
    "\n",
    "It is a sweltering summer day, and a boy wants to buy some ice cream bars.\n",
    "\n",
    "At the store, there are n ice cream bars. You are given an array costs of length n, where costs[i] is the price of the ith ice cream bar in coins. The boy initially has coins coins to spend, and he wants to buy as many ice cream bars as possible. \n",
    "\n",
    "Return the maximum number of ice cream bars the boy can buy with coins coins.\n",
    "\n",
    "Note: The boy can buy the ice cream bars in any order.\n"
   ]
  },
  {
   "cell_type": "code",
   "execution_count": 1,
   "metadata": {},
   "outputs": [],
   "source": [
    "from typing import List"
   ]
  },
  {
   "attachments": {},
   "cell_type": "markdown",
   "metadata": {},
   "source": [
    "### Approach 1: Greedy with sorting the input\n",
    "\n",
    "Time complexity: O(n⋅log⁡n)\n",
    "Time complexity depends on the sorting algorithm. "
   ]
  },
  {
   "cell_type": "code",
   "execution_count": 6,
   "metadata": {},
   "outputs": [],
   "source": [
    "def maxIceCream_greedy(costs: List[int], coins: int) -> int:\n",
    "    costs.sort()\n",
    "    n_ice = 0\n",
    "    while n_ice<len(costs) and coins>0:\n",
    "        coins -= costs[n_ice] \n",
    "        n_ice += 1\n",
    "    return n_ice-1 if coins<0 else n_ice"
   ]
  },
  {
   "attachments": {},
   "cell_type": "markdown",
   "metadata": {},
   "source": [
    "### Approach 2: Counting sort"
   ]
  },
  {
   "cell_type": "code",
   "execution_count": 11,
   "metadata": {},
   "outputs": [],
   "source": [
    "def maxIceCream_counting_sort(costs: List[int], coins: int) -> int:\n",
    "        m = max(costs)\n",
    "        freqs = [0]*(m+1)\n",
    "        n_ice = 0\n",
    "        for cost in costs:\n",
    "            freqs[cost] += 1\n",
    "\n",
    "        for cost, count in enumerate(freqs):\n",
    "            if cost*count < coins:\n",
    "                coins -= cost*count\n",
    "                n_ice += count\n",
    "            else:\n",
    "                n_possible = coins//cost\n",
    "                return n_ice+n_possible\n",
    "            if coins==0:\n",
    "                return n_ice\n",
    "            elif coins<0:\n",
    "                return n_ice-1 \n",
    "        return n_ice"
   ]
  },
  {
   "attachments": {},
   "cell_type": "markdown",
   "metadata": {},
   "source": [
    "### Test Cases"
   ]
  },
  {
   "cell_type": "code",
   "execution_count": 12,
   "metadata": {},
   "outputs": [],
   "source": [
    "inp1, out1 = dict(costs = [1,3,2,4,1], coins = 7), 4\n",
    "inp2, out2 = dict(costs=[10,6,8,7,7,8], coins = 5), 0\n",
    "inp3, out3 = dict(costs = [1,6,3,1,2,5], coins = 20), 6\n",
    "\n",
    "inputs = [inp1, inp2, inp3]\n",
    "outputs = [out1, out2, out3]\n"
   ]
  },
  {
   "cell_type": "code",
   "execution_count": 13,
   "metadata": {},
   "outputs": [],
   "source": [
    "for inp, out in zip(inputs, outputs):\n",
    "    assert maxIceCream_greedy(**inp)==out"
   ]
  },
  {
   "cell_type": "code",
   "execution_count": 14,
   "metadata": {},
   "outputs": [],
   "source": [
    "for inp, out in zip(inputs, outputs):\n",
    "    assert maxIceCream_counting_sort(**inp)==out"
   ]
  }
 ],
 "metadata": {
  "kernelspec": {
   "display_name": "torch_py39",
   "language": "python",
   "name": "python3"
  },
  "language_info": {
   "codemirror_mode": {
    "name": "ipython",
    "version": 3
   },
   "file_extension": ".py",
   "mimetype": "text/x-python",
   "name": "python",
   "nbconvert_exporter": "python",
   "pygments_lexer": "ipython3",
   "version": "3.9.15"
  },
  "orig_nbformat": 4,
  "vscode": {
   "interpreter": {
    "hash": "3008224ba0417c5996b3c09f32a737f6e6c913531bfc6cc7ad4b7580bc9519b3"
   }
  }
 },
 "nbformat": 4,
 "nbformat_minor": 2
}
