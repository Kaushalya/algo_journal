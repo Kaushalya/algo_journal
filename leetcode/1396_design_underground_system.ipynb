{
 "cells": [
  {
   "cell_type": "markdown",
   "metadata": {},
   "source": [
    "# 1396. Design Underground System\n",
    "\n",
    "Level: Medium\n",
    "\n",
    "An underground railway system is keeping track of customer travel times between different stations. They are using this data to calculate the average time it takes to travel from one station to another.\n",
    "\n",
    "Implement the UndergroundSystem class:\n",
    "\n",
    "    ```void checkIn(int id, string stationName, int t)\n",
    "        A customer with a card ID equal to id, checks in at the station stationName at time t.\n",
    "        A customer can only be checked into one place at a time.\n",
    "    ```\n",
    "\n",
    "    ```void checkOut(int id, string stationName, int t)\n",
    "        A customer with a card ID equal to id, checks out from the station stationName at time t.\n",
    "    ```\n",
    "    ```double getAverageTime(string startStation, string endStation)\n",
    "        Returns the average time it takes to travel from startStation to endStation.\n",
    "        The average time is computed from all the previous traveling times from startStation to endStation that happened directly, meaning a check in at startStation followed by a check out from endStation.\n",
    "        The time it takes to travel from startStation to endStation may be different from the time it takes to travel from endStation to startStation.\n",
    "        There will be at least one customer that has traveled from startStation to endStation before getAverageTime is called.\n",
    "    ```\n",
    "You may assume all calls to the checkIn and checkOut methods are consistent. If a customer checks in at time t1 then checks out at time t2, then t1 < t2. All events happen in chronological order."
   ]
  },
  {
   "cell_type": "markdown",
   "metadata": {},
   "source": [
    "## Solution1:\n",
    "\n",
    "Store the station name and the time everytime a customer checks in. A tuple `(station, time)` is added to the dictionary `checkins`.\n",
    "At every checkout, we add the duration of the trip to the dictionary `time_records`."
   ]
  },
  {
   "cell_type": "code",
   "execution_count": 1,
   "metadata": {},
   "outputs": [],
   "source": [
    "from collections import defaultdict\n",
    "import statistics\n",
    "\n",
    "class UndergroundSystem1:\n",
    "\n",
    "    def __init__(self):\n",
    "        self.time_records = defaultdict(list)\n",
    "        self.checkins = dict()\n",
    "        # self.n_customers = 0\n",
    "\n",
    "    def checkIn(self, id: int, stationName: str, t: int) -> None:\n",
    "        self.checkins[id] = (stationName, t)\n",
    "\n",
    "    def checkOut(self, id: int, stationName: str, t: int) -> None:\n",
    "        s1, t1 = self.checkins[id]\n",
    "        key = f'{s1}_{stationName}'\n",
    "        self.time_records[key].append(t-t1)\n",
    "        \n",
    "    def getAverageTime(self, startStation: str, endStation: str) -> float:\n",
    "        key = f'{startStation}_{endStation}'\n",
    "        return statistics.mean(self.time_records[key])\n",
    "\n",
    "\n",
    "# Your UndergroundSystem object will be instantiated and called as such:\n",
    "# obj = UndergroundSystem()\n",
    "# obj.checkIn(id,stationName,t)\n",
    "# obj.checkOut(id,stationName,t)\n",
    "# param_3 = obj.getAverageTime(startStation,endStation)"
   ]
  },
  {
   "cell_type": "markdown",
   "metadata": {},
   "source": [
    "## Solution 2: Computing a running-average at each checkout.\n",
    "Instead of storing the durations of each trip, we compute the average and store it with the frequency a trip has been taken in the dictionary `time_records`. This step reduced both computation time and storage.\n",
    "\n",
    "Removing the entry of a customer at the time of checkout (`self.checkins.pop(id)`) further reduced the memory consumption. \n"
   ]
  },
  {
   "cell_type": "code",
   "execution_count": null,
   "metadata": {},
   "outputs": [],
   "source": [
    "class UndergroundSystem2:\n",
    "\n",
    "    def __init__(self):\n",
    "        self.time_records = dict()\n",
    "        self.checkins = dict()\n",
    "\n",
    "    def checkIn(self, id: int, stationName: str, t: int) -> None:\n",
    "        self.checkins[id] = (stationName, t)\n",
    "\n",
    "    def checkOut(self, id: int, stationName: str, t: int) -> None:\n",
    "        s1, t1 = self.checkins[id]\n",
    "        t_diff = t-t1\n",
    "        key = f'{s1}_{stationName}'\n",
    "        if key in self.time_records:\n",
    "            avg, nc = self.time_records[key]\n",
    "            avg += (t_diff-avg)/(nc+1)\n",
    "            self.time_records[key] = (avg, nc+1)\n",
    "        else:\n",
    "            self.time_records[key] = (t_diff, 1)\n",
    "        self.checkins.pop(id)\n",
    "        \n",
    "        \n",
    "    def getAverageTime(self, startStation: str, endStation: str) -> float:\n",
    "        key = f'{startStation}_{endStation}'\n",
    "        return self.time_records[key][0]"
   ]
  }
 ],
 "metadata": {
  "interpreter": {
   "hash": "a6d8bd464d77343d5b02fd322c52c1d960418a7f9e37dc021c2c2724ab9d0901"
  },
  "kernelspec": {
   "display_name": "Python 3.8.10 ('flax_p38')",
   "language": "python",
   "name": "python3"
  },
  "language_info": {
   "codemirror_mode": {
    "name": "ipython",
    "version": 3
   },
   "file_extension": ".py",
   "mimetype": "text/x-python",
   "name": "python",
   "nbconvert_exporter": "python",
   "pygments_lexer": "ipython3",
   "version": "3.8.10"
  },
  "orig_nbformat": 4
 },
 "nbformat": 4,
 "nbformat_minor": 2
}
