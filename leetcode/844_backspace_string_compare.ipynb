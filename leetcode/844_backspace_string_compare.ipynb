{
 "cells": [
  {
   "cell_type": "markdown",
   "metadata": {},
   "source": [
    "# 844. Backspace String Compare\n",
    "\n",
    "Level: **Easy**\n",
    "\n",
    "Given two strings s and t, return true if they are equal when both are typed into empty text editors. '#' means a backspace character.\n",
    "Note that after backspacing an empty text, the text will continue empty.\n",
    "\n",
    "**Example 1:**\n",
    "```\n",
    "Input: s = \"ab#c\", t = \"ad#c\"\n",
    "Output: true\n",
    "Explanation: Both s and t become \"ac\".\n",
    "```\n",
    "\n",
    "**Follow up question:**\n",
    "\n",
    "Can you solve it in **O(n)** time and **O(1)** space?"
   ]
  },
  {
   "cell_type": "markdown",
   "metadata": {},
   "source": [
    "## Using a stack to keep simulate deletions\n",
    "\n",
    "For strings `s` and `t` with lengths `M` and `N`.\n",
    "* Time complexity: `O(M+N)`\n",
    "* Space complexity: `O(M+N)`"
   ]
  },
  {
   "cell_type": "code",
   "execution_count": 2,
   "metadata": {},
   "outputs": [],
   "source": [
    "class SolutionStack:\n",
    "    def get_str(self, s):\n",
    "        stack = []\n",
    "        for c in s:\n",
    "            if c=='#':\n",
    "                if stack:\n",
    "                    stack.pop()\n",
    "            else:\n",
    "                stack.append(c)\n",
    "        return ''.join(stack)\n",
    "    \n",
    "    def backspaceCompare(self, s: str, t: str) -> bool:\n",
    "        return self.get_str(s) == self.get_str(t)\n",
    "        "
   ]
  },
  {
   "cell_type": "markdown",
   "metadata": {},
   "source": [
    "## Using a pointer to track deletions in reverse\n",
    "\n",
    "Iterate the string in reverse and skip the next `k` characters after `k` occurences of `#` character. "
   ]
  },
  {
   "cell_type": "code",
   "execution_count": 3,
   "metadata": {},
   "outputs": [],
   "source": [
    "from itertools import zip_longest\n",
    "\n",
    "\n",
    "class SolutionFast:\n",
    "    def backspaceCompare(self, s: str, t: str) -> bool:\n",
    "        def get_str(s):\n",
    "            skip = 0\n",
    "            for c in reversed(s):\n",
    "                if c=='#':\n",
    "                    skip += 1\n",
    "                elif skip:\n",
    "                    skip -= 1\n",
    "                else:\n",
    "                    yield c\n",
    "                    \n",
    "        return all(x == y for x, y in zip_longest(get_str(s), get_str(t)))\n",
    "        "
   ]
  },
  {
   "cell_type": "markdown",
   "metadata": {},
   "source": [
    "Testcases"
   ]
  },
  {
   "cell_type": "code",
   "execution_count": 4,
   "metadata": {},
   "outputs": [],
   "source": [
    "in1 = (\"ab#c\", \"ad#c\")\n",
    "in2 = (\"ab##\", \"c#d#\")\n",
    "in3 = (\"a#c\", \"b\")\n",
    "out1 = True\n",
    "out2 = True\n",
    "out3 = False"
   ]
  },
  {
   "cell_type": "code",
   "execution_count": 7,
   "metadata": {},
   "outputs": [],
   "source": [
    "assert SolutionStack().backspaceCompare(*in1) == out1\n",
    "assert SolutionStack().backspaceCompare(*in2) == out2\n",
    "assert SolutionStack().backspaceCompare(*in3) == out3"
   ]
  },
  {
   "cell_type": "code",
   "execution_count": 8,
   "metadata": {},
   "outputs": [],
   "source": [
    "assert SolutionFast().backspaceCompare(*in1) == out1\n",
    "assert SolutionFast().backspaceCompare(*in2) == out2\n",
    "assert SolutionFast().backspaceCompare(*in3) == out3"
   ]
  }
 ],
 "metadata": {
  "interpreter": {
   "hash": "8e766066778c5cfc0701655ca9e7c2825f07a3af7f15fe9c75046540778414a6"
  },
  "kernelspec": {
   "display_name": "Python 3.8.10 ('torch18_py38')",
   "language": "python",
   "name": "python3"
  },
  "language_info": {
   "codemirror_mode": {
    "name": "ipython",
    "version": 3
   },
   "file_extension": ".py",
   "mimetype": "text/x-python",
   "name": "python",
   "nbconvert_exporter": "python",
   "pygments_lexer": "ipython3",
   "version": "3.8.10"
  },
  "orig_nbformat": 4
 },
 "nbformat": 4,
 "nbformat_minor": 2
}
