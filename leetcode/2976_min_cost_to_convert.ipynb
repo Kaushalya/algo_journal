{
 "cells": [
  {
   "cell_type": "markdown",
   "metadata": {},
   "source": [
    "# 2976. Minimum Cost to Convert String I\n",
    "\n",
    "https://leetcode.com/problems/minimum-cost-to-convert-string-i/\n"
   ]
  },
  {
   "cell_type": "markdown",
   "metadata": {},
   "source": [
    "## Using Floyd-Warshall algorithm"
   ]
  },
  {
   "cell_type": "code",
   "execution_count": null,
   "metadata": {},
   "outputs": [],
   "source": [
    "def minimumCost(source: str, target: str, original: list[str], changed: list[str], costs: list[int]) -> int:\n",
    "    INF = float(\"inf\")\n",
    "    dists = [[INF]*26 for _ in range(26)]\n",
    "    # Initialize the distance matrix\n",
    "    for i in range(26):\n",
    "        dists[i][i] = 0\n",
    "    for c1, c2, c in zip(original, changed, costs):\n",
    "        c1 = ord(c1)-ord('a')\n",
    "        c2 = ord(c2)-ord('a')\n",
    "        dists[c1][c2] = min(c, dists[c1][c2])\n",
    "    # Floyd Warshall - calculate the minimum distance between pairs of characters (c1, c2) \n",
    "    # considering all intermediate characters c\n",
    "    for c in range(26):\n",
    "        for c1 in range(26):\n",
    "            for c2 in range(26):\n",
    "                dists[c1][c2] = min(dists[c1][c2], dists[c1][c] + dists[c][c2])\n",
    "    res = 0\n",
    "    # O(N) - calculate the distance between source and target\n",
    "    for c1, c2 in zip(source, target):\n",
    "        if c1==c2:\n",
    "            continue\n",
    "        if dists[ord(c1)-ord('a')][ord(c2)-ord('a')] == INF:\n",
    "            return -1\n",
    "        res += dists[ord(c1)-ord('a')][ord(c2)-ord('a')]\n",
    "    return res\n",
    "        "
   ]
  }
 ],
 "metadata": {
  "language_info": {
   "name": "python"
  }
 },
 "nbformat": 4,
 "nbformat_minor": 2
}
