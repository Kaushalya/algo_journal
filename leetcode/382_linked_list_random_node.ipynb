{
 "cells": [
  {
   "cell_type": "code",
   "execution_count": null,
   "metadata": {},
   "outputs": [],
   "source": [
    "from typing import List"
   ]
  },
  {
   "cell_type": "code",
   "execution_count": null,
   "metadata": {},
   "outputs": [],
   "source": [
    "import random\n",
    "from collections import defaultdict\n",
    "\n",
    "class Solution:\n",
    "\n",
    "    def __init__(self, nums: List[int]):\n",
    "        self.target_dict = defaultdict(list)\n",
    "        \n",
    "        for i, num in enumerate(nums):\n",
    "            self.target_dict[num].append(i)\n",
    "        \n",
    "    def pick(self, target: int) -> int:\n",
    "        inds = self.target_dict[target]\n",
    "        if len(inds)==1:\n",
    "            return inds[0]\n",
    "        k = int(random.random()*len(inds))\n",
    "        return inds[k]\n",
    "\n",
    "\n",
    "# Your Solution object will be instantiated and called as such:\n",
    "# obj = Solution(nums)\n",
    "# param_1 = obj.pick(target)"
   ]
  }
 ],
 "metadata": {
  "language_info": {
   "name": "python"
  },
  "orig_nbformat": 4
 },
 "nbformat": 4,
 "nbformat_minor": 2
}
