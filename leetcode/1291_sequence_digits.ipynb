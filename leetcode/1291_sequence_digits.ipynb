{
 "cells": [
  {
   "cell_type": "markdown",
   "metadata": {},
   "source": [
    "## 1291. Sequential Digits\n",
    "Difficulty: **Medium**\n",
    "\n",
    "An integer has sequential digits if and only if each digit in the number is one more than the previous digit.\n",
    "Return a sorted list of all the integers in the range [low, high] inclusive that have sequential digits."
   ]
  },
  {
   "cell_type": "code",
   "execution_count": null,
   "metadata": {},
   "outputs": [],
   "source": [
    "from typing import List"
   ]
  },
  {
   "cell_type": "code",
   "execution_count": null,
   "metadata": {},
   "outputs": [],
   "source": [
    "class Solution:\n",
    "    def num_digits(self, num):\n",
    "        n_digs = 0\n",
    "        last_dig = 0\n",
    "        while num:\n",
    "            if num<10:\n",
    "                last_dig = num%10\n",
    "            num = num//10\n",
    "            n_digs += 1\n",
    "        return n_digs, last_dig\n",
    "    \n",
    "    def create_seq_num(self, start, n_digs):\n",
    "        num = 0\n",
    "        dig = start\n",
    "        for i in range(n_digs):\n",
    "            num = num*10+dig\n",
    "            dig += 1\n",
    "        return num\n",
    "    \n",
    "    def sequentialDigits(self, low: int, high: int) -> List[int]:\n",
    "        res = []\n",
    "        n_low, start_low = self.num_digits(low)\n",
    "        n_high, start_high = self.num_digits(high)\n",
    "        _stop = False\n",
    "        \n",
    "        for n_digs in range(n_low, n_high+1):\n",
    "            start = 1\n",
    "            if n_digs==n_low:\n",
    "                start = start_low\n",
    "                \n",
    "            for i in range(start, 11-n_digs):\n",
    "                snum = self.create_seq_num(i, n_digs)\n",
    "                if snum>high:\n",
    "                    _stop = True\n",
    "                    break\n",
    "                if snum>=low:\n",
    "                    res.append(snum)\n",
    "            \n",
    "            if _stop:\n",
    "                break    \n",
    "                \n",
    "        return res"
   ]
  },
  {
   "cell_type": "markdown",
   "metadata": {},
   "source": [
    "### Using a single loop"
   ]
  },
  {
   "cell_type": "code",
   "execution_count": null,
   "metadata": {},
   "outputs": [],
   "source": [
    "class Solution:\n",
    "    \n",
    "    def sequentialDigits(self, low: int, high: int) -> List[int]:\n",
    "        res = []\n",
    "        \n",
    "        for i in range(1,9):\n",
    "            num = i\n",
    "            while num<high:\n",
    "                last = num%10\n",
    "                \n",
    "                if last==9:\n",
    "                    break\n",
    "                \n",
    "                num = num*10+last+1\n",
    "                \n",
    "                if low<=num<=high:\n",
    "                    res.append(num)\n",
    "                \n",
    "        return sorted(res)"
   ]
  }
 ],
 "metadata": {
  "interpreter": {
   "hash": "a6d8bd464d77343d5b02fd322c52c1d960418a7f9e37dc021c2c2724ab9d0901"
  },
  "kernelspec": {
   "display_name": "Python 3.8.10 64-bit ('flax_p38': conda)",
   "language": "python",
   "name": "python3"
  },
  "language_info": {
   "name": "python",
   "version": "3.8.10"
  },
  "orig_nbformat": 4
 },
 "nbformat": 4,
 "nbformat_minor": 2
}
