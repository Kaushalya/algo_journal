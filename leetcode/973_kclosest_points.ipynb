{
 "cells": [
  {
   "cell_type": "markdown",
   "metadata": {},
   "source": [
    "# 973. K Closest Points to Origin (Medium)\n",
    "\n",
    "Problem: [Link](https://leetcode.com/problems/k-closest-points-to-origin/)\n",
    "\n",
    "Given an array of points where points[i] = [xi, yi] represents a point on the X-Y plane and an integer k, return the k closest points to the origin (0, 0).\n",
    "The distance between two points on the X-Y plane is the Euclidean distance (i.e., √(x1 - x2)2 + (y1 - y2)2).\n",
    "You may return the answer in any order. The answer is guaranteed to be unique (except for the order that it is in)."
   ]
  },
  {
   "cell_type": "code",
   "execution_count": 2,
   "metadata": {},
   "outputs": [],
   "source": [
    "from typing import List"
   ]
  },
  {
   "cell_type": "markdown",
   "metadata": {},
   "source": [
    "## With sorting\n",
    "1. For all points first calculate the distance from the origin. \n",
    "1. Sort the distances and take the kth smallest (`maxd`) distance. \n",
    "1. Add all points with a distance smaller than `k`th smallest distance to a list.\n",
    "1. There can be several points with distance equalt to `maxd`. Add those points to a separate list and then add them to the result list to make the results list has length `k`. "
   ]
  },
  {
   "cell_type": "code",
   "execution_count": 3,
   "metadata": {},
   "outputs": [],
   "source": [
    "def kClosest(points: List[List[int]], k: int) -> List[List[int]]:\n",
    "    n = len(points)\n",
    "    dist = [0]*n\n",
    "    res, eq_pts = [], []\n",
    "    \n",
    "    for i in range(n):\n",
    "        dist[i] = points[i][0]**2 + points[i][1]**2\n",
    "        \n",
    "    maxd = sorted(dist)[k-1]\n",
    "    \n",
    "    # print(maxd, dist)\n",
    "    \n",
    "    for i in range(n): \n",
    "        if dist[i]<maxd:\n",
    "            res.append(points[i])\n",
    "        elif dist[i]==maxd:\n",
    "            eq_pts.append(points[i])\n",
    "        if len(res)==k:\n",
    "            break\n",
    "    n_eq = k-len(res)\n",
    "    res.extend(eq_pts[:n_eq])\n",
    "    \n",
    "    return res"
   ]
  },
  {
   "cell_type": "markdown",
   "metadata": {},
   "source": [
    "### Using a custom comparator"
   ]
  },
  {
   "cell_type": "code",
   "execution_count": null,
   "metadata": {},
   "outputs": [],
   "source": [
    "def kClosest(points: List[List[int]], k: int) -> List[List[int]]:\n",
    "        points.sort(key=lambda pt: pt[0]**2 + pt[1]**2)\n",
    "        return points[:k]"
   ]
  },
  {
   "cell_type": "markdown",
   "metadata": {},
   "source": [
    "## Using a Max-heap"
   ]
  },
  {
   "cell_type": "code",
   "execution_count": 4,
   "metadata": {},
   "outputs": [],
   "source": [
    "import heapq\n",
    "\n",
    "def kClosest(points: List[List[int]], k: int) -> List[List[int]]:\n",
    "    dists = [-(pt[0]**2 + pt[1]**2) for pt in points]\n",
    "    dist_heap = [(d, i) for i, d in enumerate(dists[:k])]\n",
    "    heapq.heapify(dist_heap)\n",
    "    \n",
    "    for i in range(k, len(points)):\n",
    "        if dists[i]>dist_heap[0][0]:\n",
    "            heapq.heapreplace(dist_heap, (dists[i], i))\n",
    "    \n",
    "    return [points[i] for (_, i) in dist_heap]"
   ]
  },
  {
   "cell_type": "markdown",
   "metadata": {},
   "source": [
    "## Using binary search\n",
    "\n",
    "Algorithm\n",
    "1. Precompute the Euclidean distances of each point.\n",
    "2. Define the initial binary search range by identifying the farthest computed distance.\n",
    "3. Perform a binary search from low to high using the reference distances.\n",
    "    1. Calculate the midpoint of the remaining range as the target distance.\n",
    "    2. Split the remaining points into those closer and those farther than the target distance.\n",
    "    3. If the closer array has fewer than `k` points, add them to the closest array and adjust the value of `k`.\n",
    "    4. Keep only the appropriate remaining array for the next iteration and update the binary search range.\n",
    "4. Once `k` elements have been added to the closest array, return the `k` closest points.\n"
   ]
  },
  {
   "cell_type": "code",
   "execution_count": 30,
   "metadata": {},
   "outputs": [],
   "source": [
    "from math import sqrt\n",
    "\n",
    "def _split_dist(d_thresh, ids, dists):\n",
    "    closer, farther = [], []\n",
    "    for i in ids:\n",
    "        if dists[i]<=d_thresh:\n",
    "            closer.append(i)\n",
    "        else:\n",
    "            farther.append(i)\n",
    "    return closer, farther\n",
    "\n",
    "def kClosest(points: List[List[int]], k: int) -> List[List[int]]:\n",
    "    dists = [sqrt(pt[0]**2 + pt[1]**2) for pt in points]\n",
    "    remaining = list(range(len(points)))\n",
    "    closest = []\n",
    "    low, high = 0, max(dists)\n",
    "\n",
    "    while k:\n",
    "        mid_d = (low+high)/2\n",
    "        print(mid_d, closest)\n",
    "        closer, farther = _split_dist(mid_d, remaining, dists)\n",
    "\n",
    "        if len(closer)<=k:\n",
    "            closest.extend(closer)\n",
    "            remaining = farther\n",
    "            k = k-len(closer)\n",
    "            low = mid_d\n",
    "        else:\n",
    "            remaining = closer\n",
    "            high = mid_d\n",
    "        \n",
    "    return [points[i] for i in closest]"
   ]
  },
  {
   "cell_type": "code",
   "execution_count": 32,
   "metadata": {},
   "outputs": [
    {
     "name": "stdout",
     "output_type": "stream",
     "text": [
      "3.5355339059327378 []\n",
      "5.303300858899107 []\n",
      "4.419417382415922 []\n",
      "4.861359120657514 [0]\n"
     ]
    },
    {
     "data": {
      "text/plain": [
       "[[3, 3], [-2, 4]]"
      ]
     },
     "execution_count": 32,
     "metadata": {},
     "output_type": "execute_result"
    }
   ],
   "source": [
    "pts = [[3,3],[5,-1],[-2,4], [1, 7]]\n",
    "k = 2\n",
    "kClosest(pts, k)"
   ]
  }
 ],
 "metadata": {
  "interpreter": {
   "hash": "31f2aee4e71d21fbe5cf8b01ff0e069b9275f58929596ceb00d14d90e3e16cd6"
  },
  "kernelspec": {
   "display_name": "Python 3.8.5 64-bit",
   "language": "python",
   "name": "python3"
  },
  "language_info": {
   "codemirror_mode": {
    "name": "ipython",
    "version": 3
   },
   "file_extension": ".py",
   "mimetype": "text/x-python",
   "name": "python",
   "nbconvert_exporter": "python",
   "pygments_lexer": "ipython3",
   "version": "3.7.10"
  },
  "orig_nbformat": 4
 },
 "nbformat": 4,
 "nbformat_minor": 2
}
