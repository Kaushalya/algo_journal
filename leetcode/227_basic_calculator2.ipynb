{
 "cells": [
  {
   "cell_type": "code",
   "execution_count": null,
   "metadata": {},
   "outputs": [],
   "source": []
  },
  {
   "cell_type": "markdown",
   "metadata": {},
   "source": [
    "Problem: [Link](https://leetcode.com/problems/basic-calculator-ii/solution/)"
   ]
  },
  {
   "cell_type": "code",
   "execution_count": null,
   "metadata": {},
   "outputs": [],
   "source": [
    "def _calc(op, d1, d2):\n",
    "    d1, d2 = int(d1), int(d2)\n",
    "    if op=='*':\n",
    "        return d1*d2\n",
    "    elif op=='/':\n",
    "        return int(d1/d2)\n",
    "    elif op=='-':\n",
    "        return d1-d2\n",
    "    else:\n",
    "        return d1+d2\n",
    "\n",
    "def calculate(s: str) -> int:\n",
    "    #div first\n",
    "    res = []\n",
    "    s = s.replace(\" \", \"\")\n",
    "    num = 0\n",
    "    for i in range(len(s)):\n",
    "        if s[i].isdigit():\n",
    "            num = 10*num + int(s[i])\n",
    "        \n",
    "        elif s[i] in ('-', '+','/', '*'):\n",
    "            res.append(str(num))\n",
    "            res.append(s[i])\n",
    "            num = 0\n",
    "    res.append(str(num))\n",
    "    \n",
    "    if len(res)==1:\n",
    "        return int(res[0])\n",
    "    \n",
    "    for op in [('/', '*'), ('-', '+')]:\n",
    "        res_cp = []\n",
    "        # print(op)\n",
    "        for i in range(1, len(res)-1, 2):\n",
    "            # print(res[i], i, res)\n",
    "            if res[i] in op:\n",
    "                d1 = res[i-1]\n",
    "                if res_cp:\n",
    "                    d1 = res_cp.pop()\n",
    "                _out = self._calc(res[i], d1, res[i+1])\n",
    "                # print(_out)\n",
    "                res_cp.append(str(_out))\n",
    "            else:\n",
    "                if i==1:\n",
    "                    res_cp.append(res[i-1])\n",
    "                res_cp.extend([res[i], res[i+1]])\n",
    "                # if i+2==len(res):\n",
    "                #     res_cp.append(res[i+1])\n",
    "        # print(res_cp)\n",
    "        res = res_cp\n",
    "        \n",
    "        if len(res)==1:\n",
    "            break\n",
    "                        \n",
    "    return int(res[0])\n",
    "        \n",
    "            "
   ]
  },
  {
   "cell_type": "markdown",
   "metadata": {},
   "source": [
    "## Using a stack"
   ]
  },
  {
   "cell_type": "code",
   "execution_count": 1,
   "metadata": {},
   "outputs": [],
   "source": [
    "def calculate_stack(s: str) -> int:\n",
    "        #div first\n",
    "        res = []\n",
    "        s = s.replace(\" \", \"\")\n",
    "        num = 0\n",
    "        op = '+'\n",
    "        \n",
    "        for i in range(len(s)):\n",
    "            if s[i].isdigit():\n",
    "                num = 10*num + int(s[i])\n",
    "            if not s[i].isdigit() or i==len(s)-1: \n",
    "                if op=='-':\n",
    "                    res.append(-num)\n",
    "                elif op=='+':\n",
    "                    res.append(num)\n",
    "                elif op == '*':\n",
    "                    prev = res.pop()\n",
    "                    res.append(prev*num)\n",
    "                elif op=='/':\n",
    "                    prev = res.pop()\n",
    "                    res.append(int(prev/num))\n",
    "                op = s[i]\n",
    "                num = 0\n",
    "                            \n",
    "        return sum(res)"
   ]
  },
  {
   "cell_type": "markdown",
   "metadata": {},
   "source": [
    "## Without stack"
   ]
  },
  {
   "cell_type": "code",
   "execution_count": 3,
   "metadata": {},
   "outputs": [],
   "source": [
    "def calculate_nostack(s: str) -> int:\n",
    "        #div first\n",
    "        res, last_num = 0, 0\n",
    "        s = s.replace(\" \", \"\")\n",
    "        num = 0\n",
    "        op = '+'\n",
    "        \n",
    "        for i in range(len(s)):\n",
    "            if s[i].isdigit():\n",
    "                num = 10*num + int(s[i])\n",
    "            if not s[i].isdigit() or i==len(s)-1: \n",
    "                if op in ('-', '+'):\n",
    "                    res += last_num\n",
    "                    last_num = num if op=='+' else -num\n",
    "                elif op == '*':\n",
    "                    last_num = last_num*num\n",
    "                elif op=='/':\n",
    "                    last_num = int(last_num/num)\n",
    "                op = s[i]\n",
    "                num = 0\n",
    "        res += last_num\n",
    "        \n",
    "        return res"
   ]
  }
 ],
 "metadata": {
  "interpreter": {
   "hash": "a6d8bd464d77343d5b02fd322c52c1d960418a7f9e37dc021c2c2724ab9d0901"
  },
  "kernelspec": {
   "display_name": "Python 3.8.10 64-bit ('flax_p38': conda)",
   "language": "python",
   "name": "python3"
  },
  "language_info": {
   "codemirror_mode": {
    "name": "ipython",
    "version": 3
   },
   "file_extension": ".py",
   "mimetype": "text/x-python",
   "name": "python",
   "nbconvert_exporter": "python",
   "pygments_lexer": "ipython3",
   "version": "3.8.10"
  },
  "orig_nbformat": 4
 },
 "nbformat": 4,
 "nbformat_minor": 2
}
