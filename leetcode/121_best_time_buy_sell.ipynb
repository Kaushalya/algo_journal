{
 "cells": [
  {
   "cell_type": "markdown",
   "metadata": {},
   "source": [
    "## 121. Best Time to Buy and Sell Stock\n",
    "Link: [121](https://leetcode.com/problems/best-time-to-buy-and-sell-stock/)\n",
    "\n",
    "**Difficulty**: Easy\n",
    "\n",
    "You are given an array prices where `prices[i]` is the price of a given stock on the i<sup>th</sup> day.\n",
    "\n",
    "You want to maximize your profit by choosing a single day to buy one stock and choosing a different day in the future to sell that stock.\n",
    "\n",
    "Return the maximum profit you can achieve from this transaction. If you cannot achieve any profit, return 0."
   ]
  },
  {
   "cell_type": "code",
   "execution_count": 1,
   "metadata": {},
   "outputs": [],
   "source": [
    "from typing import List"
   ]
  },
  {
   "cell_type": "markdown",
   "metadata": {},
   "source": [
    "### Using two loops and an array to store the current minimum price.\n",
    "Using array to store the current minimum price."
   ]
  },
  {
   "cell_type": "code",
   "execution_count": 4,
   "metadata": {},
   "outputs": [],
   "source": [
    "class SolutionSlow:\n",
    "    def maxProfit(self, prices: List[int]) -> int:\n",
    "        n = len(prices)\n",
    "        min_price = [10000]*n\n",
    "        max_profit = 0\n",
    "        min_price[0] = prices[0]\n",
    "        for i in range(1,n):\n",
    "            min_price[i] = min(min_price[i-1], prices[i])\n",
    "            \n",
    "        for i in range(1, n):\n",
    "            profit = prices[i] - min_price[i-1]\n",
    "            max_profit = max(max_profit, profit)\n",
    "            \n",
    "        return max_profit"
   ]
  },
  {
   "cell_type": "markdown",
   "metadata": {},
   "source": [
    "### Using Kadane's algorithm\n",
    "Use [Kadane's algorithm](https://en.wikipedia.org/wiki/Maximum_subarray_problem#Kadane's_algorithm) to find the subarray with the maximum profit."
   ]
  },
  {
   "cell_type": "code",
   "execution_count": 5,
   "metadata": {},
   "outputs": [],
   "source": [
    "class SolutionKadane:\n",
    "    def maxProfit(self, prices: List[int]) -> int:\n",
    "        n = len(prices)\n",
    "        max_profit = 0\n",
    "        current_dif = 0\n",
    "\n",
    "        for i in range(1,n):\n",
    "            current_dif += prices[i]-prices[i-1]\n",
    "            current_dif = max(0, current_dif)\n",
    "            max_profit = max(max_profit, current_dif)\n",
    "            \n",
    "        return max_profit"
   ]
  },
  {
   "cell_type": "code",
   "execution_count": 13,
   "metadata": {},
   "outputs": [],
   "source": [
    "## Test cases\n",
    "import random\n",
    "\n",
    "prices = [7,1,5,3,6,4]\n",
    "prices2 = [7,6,4,3,1]\n",
    "prices3 = [random.randint(1, 10000) for _ in range(100000)]\n"
   ]
  },
  {
   "cell_type": "code",
   "execution_count": 14,
   "metadata": {},
   "outputs": [
    {
     "data": {
      "text/plain": [
       "9999"
      ]
     },
     "execution_count": 14,
     "metadata": {},
     "output_type": "execute_result"
    }
   ],
   "source": [
    "SolutionSlow().maxProfit(prices3)"
   ]
  },
  {
   "cell_type": "code",
   "execution_count": 15,
   "metadata": {},
   "outputs": [
    {
     "data": {
      "text/plain": [
       "9999"
      ]
     },
     "execution_count": 15,
     "metadata": {},
     "output_type": "execute_result"
    }
   ],
   "source": [
    "SolutionKadane().maxProfit(prices3)"
   ]
  }
 ],
 "metadata": {
  "interpreter": {
   "hash": "a6d8bd464d77343d5b02fd322c52c1d960418a7f9e37dc021c2c2724ab9d0901"
  },
  "kernelspec": {
   "display_name": "Python 3.8.10 64-bit ('flax_p38': conda)",
   "language": "python",
   "name": "python3"
  },
  "language_info": {
   "codemirror_mode": {
    "name": "ipython",
    "version": 3
   },
   "file_extension": ".py",
   "mimetype": "text/x-python",
   "name": "python",
   "nbconvert_exporter": "python",
   "pygments_lexer": "ipython3",
   "version": "3.8.10"
  },
  "orig_nbformat": 4
 },
 "nbformat": 4,
 "nbformat_minor": 2
}
