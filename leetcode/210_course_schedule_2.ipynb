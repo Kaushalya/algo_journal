{
 "cells": [
  {
   "cell_type": "markdown",
   "metadata": {},
   "source": [
    "There are a total of numCourses courses you have to take, labeled from 0 to numCourses - 1. You are given an array prerequisites where prerequisites[i] = [ai, bi] indicates that you must take course bi first if you want to take course ai.\n",
    "\n",
    "    For example, the pair [0, 1], indicates that to take course 0 you have to first take course 1.\n",
    "\n",
    "Return the ordering of courses you should take to finish all courses. If there are many valid answers, return any of them. If it is impossible to finish all courses, return an empty array.\n",
    "\n",
    "[Problem Link](https://leetcode.com/problems/course-schedule-ii/solution/)\n",
    "\n",
    "### Similar problems\n",
    "1. Course Schedule [Medium]"
   ]
  },
  {
   "cell_type": "code",
   "execution_count": 5,
   "metadata": {},
   "outputs": [],
   "source": [
    "from typing import List"
   ]
  },
  {
   "cell_type": "code",
   "execution_count": 16,
   "metadata": {},
   "outputs": [],
   "source": [
    "def findOrder(numCourses: int, prerequisites: List[List[int]]) -> List[int]:\n",
    "    selected = []\n",
    "    preqs = [set() for _ in range(numCourses)]\n",
    "    rpreqs = [set() for _ in range(numCourses)]\n",
    "\n",
    "    for preq in prerequisites:\n",
    "        preqs[preq[0]].add(preq[1])\n",
    "        rpreqs[preq[1]].add(preq[0])\n",
    "\n",
    "    leaves = []\n",
    "    for i, preq in enumerate(preqs):\n",
    "        if len(preq)==0:\n",
    "            leaves.append(i)\n",
    "\n",
    "    # print(leaves)\n",
    "    if len(leaves)==0:\n",
    "        return []\n",
    "\n",
    "    while len(selected)<numCourses:\n",
    "        if len(leaves)==0:\n",
    "            return []\n",
    "        \n",
    "        new_leaves = []\n",
    "        \n",
    "        while(leaves):\n",
    "            leaf = leaves.pop()\n",
    "            selected.append(leaf)\n",
    "            preqs[leaf].add(-1)\n",
    "\n",
    "            for neigh in rpreqs[leaf]:\n",
    "                preqs[neigh].remove(leaf)\n",
    "                if len(preqs[neigh])==0:\n",
    "                    new_leaves.append(neigh)\n",
    "        leaves = new_leaves\n",
    "        \n",
    "    return selected"
   ]
  },
  {
   "cell_type": "code",
   "execution_count": 17,
   "metadata": {},
   "outputs": [
    {
     "data": {
      "text/plain": [
       "[0, 2, 1, 3]"
      ]
     },
     "execution_count": 17,
     "metadata": {},
     "output_type": "execute_result"
    }
   ],
   "source": [
    "findOrder(4, [[1,0],[2,0],[3,1],[3,2]])"
   ]
  }
 ],
 "metadata": {
  "interpreter": {
   "hash": "a6d8bd464d77343d5b02fd322c52c1d960418a7f9e37dc021c2c2724ab9d0901"
  },
  "kernelspec": {
   "display_name": "Python 3.8.10 64-bit ('flax_p38': conda)",
   "language": "python",
   "name": "python3"
  },
  "language_info": {
   "codemirror_mode": {
    "name": "ipython",
    "version": 3
   },
   "file_extension": ".py",
   "mimetype": "text/x-python",
   "name": "python",
   "nbconvert_exporter": "python",
   "pygments_lexer": "ipython3",
   "version": "3.8.10"
  },
  "orig_nbformat": 4
 },
 "nbformat": 4,
 "nbformat_minor": 2
}
