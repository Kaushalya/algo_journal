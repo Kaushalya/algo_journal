{
 "cells": [
  {
   "cell_type": "markdown",
   "metadata": {},
   "source": [
    "## 1015. Smallest Integer Divisible by K"
   ]
  },
  {
   "cell_type": "code",
   "execution_count": 5,
   "metadata": {},
   "outputs": [
    {
     "name": "stdout",
     "output_type": "stream",
     "text": [
      "11 11 11\n",
      "111 7 7\n",
      "1111 6 6\n",
      "11111 9 9\n",
      "111111 0 0\n",
      "1111111 1 1\n"
     ]
    }
   ],
   "source": [
    "num = 1\n",
    "k = 13\n",
    "mod = num%k\n",
    "for i in range(6):\n",
    "    num = num*10 + 1\n",
    "    mod = (mod*10+1)%k\n",
    "    print(num, num%k, mod)"
   ]
  }
 ],
 "metadata": {
  "interpreter": {
   "hash": "a6d8bd464d77343d5b02fd322c52c1d960418a7f9e37dc021c2c2724ab9d0901"
  },
  "kernelspec": {
   "display_name": "Python 3.8.10 64-bit ('flax_p38': conda)",
   "language": "python",
   "name": "python3"
  },
  "language_info": {
   "codemirror_mode": {
    "name": "ipython",
    "version": 3
   },
   "file_extension": ".py",
   "mimetype": "text/x-python",
   "name": "python",
   "nbconvert_exporter": "python",
   "pygments_lexer": "ipython3",
   "version": "3.8.10"
  },
  "orig_nbformat": 4
 },
 "nbformat": 4,
 "nbformat_minor": 2
}
