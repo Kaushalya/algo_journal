{
 "cells": [
  {
   "cell_type": "markdown",
   "metadata": {},
   "source": [
    "# 78. Subsets\n",
    "\n",
    "__Difficulty__: Medium\n",
    "[Link](https://leetcode.com/problems/subsets/)\n",
    "\n",
    "Given an integer array `nums` of unique elements, return all possible subsets (the power set).\n",
    "\n",
    "The solution set must not contain duplicate subsets. Return the solution in any order.\n",
    "\n",
    "__Example 1__:\n",
    "\n",
    "Input: `nums = [1,2,3]`\n",
    "Output: `[[],[1],[2],[1,2],[3],[1,3],[2,3],[1,2,3]]`\n"
   ]
  },
  {
   "cell_type": "code",
   "execution_count": 1,
   "metadata": {},
   "outputs": [],
   "source": [
    "from typing import List"
   ]
  },
  {
   "cell_type": "markdown",
   "metadata": {},
   "source": [
    "## DFS Approach"
   ]
  },
  {
   "cell_type": "code",
   "execution_count": 4,
   "metadata": {},
   "outputs": [],
   "source": [
    "class SolutionDFS:\n",
    "    def dfs(self, res, nums):\n",
    "        if len(nums)==0:\n",
    "            return [res]\n",
    "        ans = []\n",
    "\n",
    "        for i, num in enumerate(nums):\n",
    "            # print(res+[num])\n",
    "            ans.extend(self.dfs(res+[num], nums[i+1:]))\n",
    "        ans.append(res)\n",
    "        # print(ans)\n",
    "        return ans\n",
    "    \n",
    "    def subsets(self, nums: List[int]) -> List[List[int]]:\n",
    "        return self.dfs([], nums)"
   ]
  },
  {
   "cell_type": "markdown",
   "metadata": {},
   "source": [
    "## Using a bit-mask to indicate selected items from the list of numbers"
   ]
  },
  {
   "cell_type": "code",
   "execution_count": 5,
   "metadata": {},
   "outputs": [],
   "source": [
    "class SolutionMask:\n",
    "    def subsets(self, nums: List[int]) -> List[List[int]]:\n",
    "        combs = []\n",
    "        n = len(nums)\n",
    "        \n",
    "        for mask in range(0, 2**n):\n",
    "            i = 0\n",
    "            rem = mask\n",
    "            current_set = []\n",
    "            while rem:\n",
    "                if rem%2:\n",
    "                    current_set.append(nums[i])\n",
    "                rem = rem//2\n",
    "                i += 1\n",
    "            combs.append(current_set)\n",
    "            \n",
    "        return combs"
   ]
  },
  {
   "cell_type": "markdown",
   "metadata": {},
   "source": [
    "Test cases"
   ]
  },
  {
   "cell_type": "code",
   "execution_count": 27,
   "metadata": {},
   "outputs": [],
   "source": [
    "# Example 1\n",
    "nums1 = [1,2,3]\n",
    "res1 = [[],[1],[2],[1,2],[3],[1,3],[2,3],[1,2,3]]\n",
    "\n",
    "# Example 2\n",
    "nums2 = [0]\n",
    "res2 = [[],[0]]\n",
    "\n",
    "# Example 3\n",
    "nums3 = [0, -2, 5, -7, 9]\n",
    "res3 = [[0,-2,5,-7,9],[0,-2,5,-7],[0,-2,5,9],[0,-2,5],[0,-2,-7,9],[0,-2,-7],[0,-2,9],[0,-2],[0,5,-7,9],[0,5,-7],[0,5,9],[0,5],[0,-7,9],[0,-7],[0,9],[0],[-2,5,-7,9],[-2,5,-7],[-2,5,9],[-2,5],[-2,-7,9],[-2,-7],[-2,9],[-2],[5,-7,9],[5,-7],[5,9],[5],[-7,9],[-7],[9],[]]\n",
    "\n",
    "def test_function(inp, result):\n",
    "    assert len(inp)==len(result)\n",
    "    inp_set = [set(x) for x in inp]\n",
    "    res_set = [set(x) for x in result]\n",
    "\n",
    "    for i in inp_set:\n",
    "        assert i in res_set"
   ]
  },
  {
   "cell_type": "code",
   "execution_count": 29,
   "metadata": {},
   "outputs": [],
   "source": [
    "# Test DFS method\n",
    "dfs_sol = SolutionDFS()\n",
    "test_function(dfs_sol.subsets(nums1), res1)\n",
    "test_function(dfs_sol.subsets(nums2), res2)\n",
    "test_function(dfs_sol.subsets(nums3), res3)"
   ]
  },
  {
   "cell_type": "code",
   "execution_count": 30,
   "metadata": {},
   "outputs": [],
   "source": [
    "# Test bit-mask method\n",
    "mask_sol = SolutionMask()\n",
    "test_function(mask_sol.subsets(nums1), res1)\n",
    "test_function(mask_sol.subsets(nums2), res2)\n",
    "test_function(mask_sol.subsets(nums3), res3)"
   ]
  }
 ],
 "metadata": {
  "interpreter": {
   "hash": "a6d8bd464d77343d5b02fd322c52c1d960418a7f9e37dc021c2c2724ab9d0901"
  },
  "kernelspec": {
   "display_name": "Python 3.8.10 ('flax_p38')",
   "language": "python",
   "name": "python3"
  },
  "language_info": {
   "codemirror_mode": {
    "name": "ipython",
    "version": 3
   },
   "file_extension": ".py",
   "mimetype": "text/x-python",
   "name": "python",
   "nbconvert_exporter": "python",
   "pygments_lexer": "ipython3",
   "version": "3.8.10"
  },
  "orig_nbformat": 4
 },
 "nbformat": 4,
 "nbformat_minor": 2
}
