{
 "cells": [
  {
   "cell_type": "markdown",
   "metadata": {},
   "source": [
    "# 230. Kth Smallest Element in a BST\n",
    "\n",
    "Level: Medium\n",
    "\n",
    "Given the root of a binary search tree, and an integer k, return the kth smallest value (1-indexed) of all the values of the nodes in the tree."
   ]
  },
  {
   "cell_type": "code",
   "execution_count": 2,
   "metadata": {},
   "outputs": [],
   "source": [
    "from typing import Optional\n",
    "from heapq import heapify, heappush, heappushpop\n",
    "\n",
    "# Definition for a binary tree node.\n",
    "class TreeNode:\n",
    "    def __init__(self, val=0, left=None, right=None):\n",
    "        self.val = val\n",
    "        self.left = left\n",
    "        self.right = right"
   ]
  },
  {
   "cell_type": "markdown",
   "metadata": {},
   "source": [
    "## Using a heap"
   ]
  },
  {
   "cell_type": "code",
   "execution_count": null,
   "metadata": {},
   "outputs": [],
   "source": [
    "def kthSmallest_heap(self, root: Optional[TreeNode], k: int) -> int:\n",
    "    que = []\n",
    "    heapify(que)\n",
    "    \n",
    "    def dfs(node):\n",
    "        if node is None:\n",
    "            return\n",
    "        \n",
    "        if len(que) < k:\n",
    "            heappush(que, -node.val)\n",
    "        elif -que[0] > node.val:\n",
    "            heappushpop(que, -node.val)\n",
    "        dfs(node.left)\n",
    "        dfs(node.right)\n",
    "        \n",
    "    dfs(root)\n",
    "    \n",
    "    return -que[0]"
   ]
  },
  {
   "cell_type": "markdown",
   "metadata": {},
   "source": [
    "## Inorder traversal using BFS"
   ]
  },
  {
   "cell_type": "code",
   "execution_count": null,
   "metadata": {},
   "outputs": [],
   "source": [
    "def kthSmallest_bfs(root: Optional[TreeNode], k: int) -> int:\n",
    "    stack = []\n",
    "\n",
    "    while True:\n",
    "        while root:\n",
    "            stack.append(root)\n",
    "            root = root.left\n",
    "            \n",
    "        root = stack.pop()\n",
    "        k -= 1\n",
    "        \n",
    "        if k == 0:\n",
    "            return root.val\n",
    "        root = root.right"
   ]
  },
  {
   "cell_type": "code",
   "execution_count": null,
   "metadata": {},
   "outputs": [],
   "source": [
    "# Testcases\n",
    "# TODO create BST"
   ]
  }
 ],
 "metadata": {
  "interpreter": {
   "hash": "8e766066778c5cfc0701655ca9e7c2825f07a3af7f15fe9c75046540778414a6"
  },
  "kernelspec": {
   "display_name": "Python 3.8.10 ('torch18_py38')",
   "language": "python",
   "name": "python3"
  },
  "language_info": {
   "codemirror_mode": {
    "name": "ipython",
    "version": 3
   },
   "file_extension": ".py",
   "mimetype": "text/x-python",
   "name": "python",
   "nbconvert_exporter": "python",
   "pygments_lexer": "ipython3",
   "version": "3.8.10"
  },
  "orig_nbformat": 4
 },
 "nbformat": 4,
 "nbformat_minor": 2
}
