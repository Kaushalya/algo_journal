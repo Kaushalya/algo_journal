{
 "cells": [
  {
   "cell_type": "markdown",
   "metadata": {},
   "source": [
    "# Implementation of Quickselect algorithm\n",
    "[Quickselect](https://en.wikipedia.org/wiki/Quickselect) selects the kth smallest element in an unordered list.\n",
    "\n",
    "List of problems that require quickselect:\n",
    "1. [973. K-closest points](../../leetcode/973_kclosest_points.ipynb) "
   ]
  },
  {
   "cell_type": "markdown",
   "metadata": {},
   "source": [
    "## Procedural implementation"
   ]
  },
  {
   "cell_type": "code",
   "execution_count": 4,
   "metadata": {},
   "outputs": [],
   "source": [
    "import random\n",
    " \n",
    "def partition(vector, left, right, pivotIndex):\n",
    "    pivotValue = vector[pivotIndex]\n",
    "    vector[pivotIndex], vector[right] = vector[right], vector[pivotIndex]  # Move pivot to end\n",
    "    storeIndex = left\n",
    "    for i in range(left, right):\n",
    "        if vector[i] < pivotValue:\n",
    "            vector[storeIndex], vector[i] = vector[i], vector[storeIndex]\n",
    "            storeIndex += 1\n",
    "    vector[right], vector[storeIndex] = vector[storeIndex], vector[right]  # Move pivot to its final place\n",
    "    return storeIndex\n",
    " \n",
    "def _select(vector, left, right, k):\n",
    "    \"Returns the k-th smallest, (k >= 0), element of vector within vector[left:right+1] inclusive.\"\n",
    "    while True:\n",
    "        pivotIndex = random.randint(left, right)     # select pivotIndex between left and right\n",
    "        pivotNewIndex = partition(vector, left, right, pivotIndex)\n",
    "        pivotDist = pivotNewIndex - left\n",
    "        if pivotDist == k:\n",
    "            return vector[pivotNewIndex]\n",
    "        elif k < pivotDist:\n",
    "            right = pivotNewIndex - 1\n",
    "        else:\n",
    "            k -= pivotDist + 1\n",
    "            left = pivotNewIndex + 1\n",
    " \n",
    "def select(vector, k, left=None, right=None):\n",
    "    \"\"\"\\\n",
    "    Returns the k-th smallest, (k >= 0), element of vector within vector[left:right+1].\n",
    "    left, right default to (0, len(vector) - 1) if omitted\n",
    "    \"\"\"\n",
    "    if left is None:\n",
    "        left = 0\n",
    "    lv1 = len(vector) - 1\n",
    "    if right is None:\n",
    "        right = lv1\n",
    "    assert vector and k >= 0, \"Either null vector or k < 0 \"\n",
    "    assert 0 <= left <= lv1, \"left is out of range\"\n",
    "    assert left <= right <= lv1, \"right is out of range\"\n",
    "    return _select(vector, left, right, k)\n",
    " \n",
    " "
   ]
  },
  {
   "cell_type": "code",
   "execution_count": 5,
   "metadata": {},
   "outputs": [
    {
     "name": "stdout",
     "output_type": "stream",
     "text": [
      "[1, 2, 4, 8]\n"
     ]
    }
   ],
   "source": [
    "# An example\n",
    "\n",
    "v = [2, 4, 8, 1]\n",
    "\n",
    "\n",
    "print([select(v, i) for i in range(len(v))])"
   ]
  },
  {
   "cell_type": "markdown",
   "metadata": {},
   "source": [
    "## With tail recursion"
   ]
  },
  {
   "cell_type": "code",
   "execution_count": 6,
   "metadata": {},
   "outputs": [],
   "source": [
    "def partition(arr, left, right, pivot):\n",
    "    \"\"\"Partition function inplace\n",
    "    \"\"\"\n",
    "    sorted_i = left\n",
    "    # Move pivot to the end\n",
    "    pivot_value = arr[pivot]\n",
    "    arr[pivot], arr[right] = arr[right], arr[pivot]\n",
    "    for i in range(left, right):\n",
    "        if arr[i] < pivot_value:\n",
    "            arr[i], arr[sorted_i] = arr[sorted_i], arr[i]\n",
    "            sorted_i += 1\n",
    "\n",
    "    arr[sorted_i], arr[right] = arr[right], arr[sorted_i]\n",
    "    print(arr)\n",
    "    return sorted_i\n",
    "\n",
    "\n",
    "def quickselect(arr, left, right, k):\n",
    "    if left==right:\n",
    "        return arr[left]\n",
    "\n",
    "    assert k<=right, \"k is out of bounds\"\n",
    "\n",
    "    pivot = (left+right)//2\n",
    "    pivot_ind = partition(arr, left, right, pivot)\n",
    "\n",
    "    print(\"pivot\", pivot_ind)\n",
    "\n",
    "    if k == pivot_ind:\n",
    "        return arr[k]\n",
    "    elif k < pivot_ind:\n",
    "        return quickselect(arr, left, pivot_ind-1, k)\n",
    "    else:\n",
    "        return quickselect(arr, pivot_ind+1, right, k)\n"
   ]
  },
  {
   "cell_type": "code",
   "execution_count": 7,
   "metadata": {},
   "outputs": [
    {
     "name": "stdout",
     "output_type": "stream",
     "text": [
      "[2, 1, 4, 8]\n",
      "pivot 2\n",
      "4\n"
     ]
    }
   ],
   "source": [
    "inp = [2, 4, 8, 1]\n",
    "print(quickselect(inp, 0, len(inp)-1, 2))"
   ]
  },
  {
   "cell_type": "markdown",
   "metadata": {},
   "source": [
    "## How to make selection even more faster?"
   ]
  },
  {
   "cell_type": "code",
   "execution_count": 25,
   "metadata": {},
   "outputs": [
    {
     "data": {
      "text/plain": [
       "[1, 2, 4]"
      ]
     },
     "execution_count": 25,
     "metadata": {},
     "output_type": "execute_result"
    }
   ],
   "source": [
    "import heapq\n",
    "heapq.nsmallest(3, inp)"
   ]
  }
 ],
 "metadata": {
  "interpreter": {
   "hash": "dcdfbc5d491e07f12d9397cbe7961c1de0ba37b308b7debbf5dd268de15abd00"
  },
  "kernelspec": {
   "display_name": "Python 3.8.10 64-bit ('torch_py38': conda)",
   "name": "python3"
  },
  "language_info": {
   "codemirror_mode": {
    "name": "ipython",
    "version": 3
   },
   "file_extension": ".py",
   "mimetype": "text/x-python",
   "name": "python",
   "nbconvert_exporter": "python",
   "pygments_lexer": "ipython3",
   "version": "3.8.10"
  },
  "orig_nbformat": 4
 },
 "nbformat": 4,
 "nbformat_minor": 2
}
